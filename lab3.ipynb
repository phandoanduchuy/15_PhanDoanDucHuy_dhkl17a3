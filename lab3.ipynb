{
 "cells": [
  {
   "cell_type": "markdown",
   "metadata": {},
   "source": [
    "### Lab 3.1"
   ]
  },
  {
   "cell_type": "code",
   "execution_count": null,
   "metadata": {},
   "outputs": [],
   "source": [
    "import pandas as pd\n",
    "\n",
    "stocks1_path = \"D:\\DHKL17A3\\Lập trình nâng cao\\Thực hành\\DATA\\stocks1.csv\"\n",
    "\n",
    "stocks1 = pd.read_csv(stocks1_path)\n",
    "\n",
    "print(\"5 dòng đầu tiên của stocks1:\")\n",
    "print(stocks1.head())\n",
    "\n",
    "print(\"\\nKiểu dữ liệu của mỗi cột:\")\n",
    "print(stocks1.dtypes)\n",
    "\n",
    "print(\"\\nThông tin tổng quan của stocks1:\")\n",
    "print(stocks1.info())\n"
   ]
  },
  {
   "cell_type": "markdown",
   "metadata": {},
   "source": [
    "### Lab 3.2"
   ]
  },
  {
   "cell_type": "code",
   "execution_count": null,
   "metadata": {},
   "outputs": [],
   "source": [
    "print(\"\\nKiểm tra dữ liệu Null trong stocks1:\")\n",
    "print(stocks1.isnull().sum())\n",
    "\n",
    "stocks1['high'].fillna(stocks1['high'].mean(), inplace=True)\n",
    "\n",
    "stocks1['low'].fillna(stocks1['low'].mean(), inplace=True)\n",
    "\n",
    "print(\"\\nThông tin tổng quan sau khi xử lý dữ liệu Null:\")\n",
    "print(stocks1.info())\n"
   ]
  },
  {
   "cell_type": "markdown",
   "metadata": {},
   "source": [
    "### Lab 3.3"
   ]
  },
  {
   "cell_type": "code",
   "execution_count": null,
   "metadata": {},
   "outputs": [],
   "source": [
    "stocks2_path = \"D:\\DHKL17A3\\Lập trình nâng cao\\Thực hành\\DATA\\stocks2.csv\"\n",
    "\n",
    "stocks2 = pd.read_csv(stocks2_path)\n",
    "\n",
    "stocks = pd.concat([stocks1, stocks2], ignore_index=True)\n",
    "\n",
    "stocks_avg = stocks.groupby('date')[['open', 'high', 'low', 'close']].mean()\n",
    "\n",
    "print(\"\\n5 dòng đầu tiên của dữ liệu trung bình:\")\n",
    "print(stocks_avg.head())\n"
   ]
  },
  {
   "cell_type": "markdown",
   "metadata": {},
   "source": [
    "### Lab 3.4"
   ]
  },
  {
   "cell_type": "code",
   "execution_count": null,
   "metadata": {},
   "outputs": [],
   "source": [
    "companies_path = \"D:\\DHKL17A3\\Lập trình nâng cao\\Thực hành\\DATA\\companies.csv\"\n",
    "\n",
    "companies = pd.read_csv(companies_path)\n",
    "\n",
    "print(\"\\nThông tin tổng quan của companies:\")\n",
    "print(companies.info())\n",
    "print(\"\\n5 dòng đầu tiên của companies:\")\n",
    "print(companies.head())\n"
   ]
  }
 ],
 "metadata": {
  "kernelspec": {
   "display_name": "Python 3",
   "language": "python",
   "name": "python3"
  },
  "language_info": {
   "codemirror_mode": {
    "name": "ipython",
    "version": 3
   },
   "file_extension": ".py",
   "mimetype": "text/x-python",
   "name": "python",
   "nbconvert_exporter": "python",
   "pygments_lexer": "ipython3",
   "version": "3.12.1"
  }
 },
 "nbformat": 4,
 "nbformat_minor": 2
}
