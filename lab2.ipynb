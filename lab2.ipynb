{
 "cells": [
  {
   "cell_type": "markdown",
   "metadata": {},
   "source": [
    "### Lab 2.1"
   ]
  },
  {
   "cell_type": "code",
   "execution_count": null,
   "metadata": {},
   "outputs": [],
   "source": [
    "import numpy as np\n",
    "\n",
    "np.random.seed(42)  \n",
    "temperatures = np.round(np.random.uniform(15, 35, 30), 2)\n",
    "\n",
    "average_temp = np.mean(temperatures)\n",
    "\n",
    "print(\"Nhiệt độ hàng ngày:\", temperatures)\n",
    "print(f\"Nhiệt độ trung bình trong tháng: {average_temp:.2f}°C\")\n"
   ]
  },
  {
   "cell_type": "code",
   "execution_count": null,
   "metadata": {},
   "outputs": [],
   "source": [
    "max_temp = np.max(temperatures)\n",
    "min_temp = np.min(temperatures)\n",
    "max_day = np.argmax(temperatures) + 1\n",
    "min_day = np.argmin(temperatures) + 1\n",
    "\n",
    "print(f\"Ngày có nhiệt độ cao nhất là ngày {max_day}, nhiệt độ {max_temp}°C\")\n",
    "print(f\"Ngày có nhiệt độ thấp nhất là ngày {min_day}, nhiệt độ {min_temp}°C\")\n",
    "\n",
    "temp_diff = np.diff(temperatures)\n",
    "\n",
    "max_diff = np.max(np.abs(temp_diff))\n",
    "day_with_max_diff = np.argmax(np.abs(temp_diff)) + 1\n",
    "\n",
    "print(f\"Sự biến đổi nhiệt độ lớn nhất giữa 2 ngày là {max_diff:.2f}°C\")\n",
    "print(f\"Ngày có sự biến đổi nhiệt độ cao nhất: ngày {day_with_max_diff} -> ngày {day_with_max_diff+1}\")\n"
   ]
  },
  {
   "cell_type": "code",
   "execution_count": null,
   "metadata": {},
   "outputs": [],
   "source": [
    "\n",
    "above_20 = temperatures[temperatures > 20]\n",
    "print(\"Nhiệt độ các ngày trên 20 độ C:\", above_20)\n",
    "\n",
    "specific_days = temperatures[[4, 9, 14, 19, 24]]  \n",
    "print(\"Nhiệt độ ngày 5, 10, 15, 20, 25:\", specific_days)\n",
    "\n",
    "average_specific_days = np.mean(specific_days)\n",
    "print(f\"Nhiệt độ trung bình của các ngày 5, 10, 15, 20, 25 là: {average_specific_days:.2f}°C\")\n",
    "\n",
    "even_days = temperatures[1::2]\n",
    "odd_days = temperatures[::2]    \n",
    "\n",
    "print(\"Nhiệt độ các ngày chẵn:\", odd_days)\n",
    "print(\"Nhiệt độ các ngày lẻ:\", even_days)\n"
   ]
  },
  {
   "cell_type": "markdown",
   "metadata": {},
   "source": [
    "### Lab2.2"
   ]
  },
  {
   "cell_type": "code",
   "execution_count": null,
   "metadata": {},
   "outputs": [],
   "source": [
    "import numpy as np\n",
    "import pandas as pd\n",
    "\n",
    "file_path = 'diem_hp.csv'  \n",
    "data = pd.read_csv(file_path)\n",
    "\n",
    "diem_hp_list = data[['HP1', 'HP2', 'HP3']].values.tolist()\n",
    "\n",
    "def diem_tin_chi(diem):\n",
    "    if 8.5 <= diem <= 10: return 'A'\n",
    "    elif 8.0 <= diem <= 8.4: return 'B+'\n",
    "    elif 7.0 <= diem < 8.0: return 'B'\n",
    "    elif 6.5 <= diem < 7.0: return 'C+'\n",
    "    elif 5.5 <= diem < 6.5: return 'C'\n",
    "    elif 5.0 <= diem < 5.5: return 'D+'\n",
    "    elif 4.0 <= diem < 5.0: return 'D'\n",
    "    else: return 'F'\n",
    "\n",
    "for col in ['HP1', 'HP2', 'HP3']:\n",
    "    data[col + '_tin_chi'] = data[col].apply(diem_tin_chi)\n",
    "\n",
    "print(\"Dữ liệu phân tách theo học phần:\")\n",
    "print(data[['id', 'ten sinh vien', 'HP1_tin_chi', 'HP2_tin_chi', 'HP3_tin_chi']])\n",
    "\n",
    "def thong_ke(col):\n",
    "    return {\n",
    "        'Tổng': data[col].sum(),\n",
    "        'Trung bình': data[col].mean(),\n",
    "        'Độ lệch chuẩn': data[col].std()\n",
    "    }\n",
    "\n",
    "print(\"\\nThống kê học phần:\")\n",
    "for col in ['HP1', 'HP2', 'HP3']:\n",
    "    stats = thong_ke(col)\n",
    "    print(f\"{col}: {stats}\")\n",
    "\n",
    "for col in ['HP1_tin_chi', 'HP2_tin_chi', 'HP3_tin_chi']:\n",
    "    print(f\"\\nPhân loại điểm tín chỉ cho {col}:\")\n",
    "    print(data[col].value_counts())\n"
   ]
  },
  {
   "cell_type": "markdown",
   "metadata": {},
   "source": [
    "### Lab 2.3"
   ]
  },
  {
   "cell_type": "code",
   "execution_count": null,
   "metadata": {},
   "outputs": [],
   "source": [
    "import numpy as np\n",
    "\n",
    "efficiency = [50, 60, 45, 70, 80]\n",
    "shifts = ['Morning', 'Afternoon', 'Night', 'Morning', 'Afternoon']\n",
    "\n",
    "print(\"Efficiency:\", efficiency)\n",
    "print(\"Shifts:\", shifts)\n",
    "\n",
    "np_shifts = np.array(shifts)\n",
    "print(\"np_shifts:\", np_shifts)\n",
    "print(\"Kiểu dữ liệu của np_shifts:\", np_shifts.dtype)\n",
    "\n",
    "np_efficiency = np.array(efficiency)\n",
    "print(\"np_efficiency:\", np_efficiency)\n",
    "print(\"Kiểu dữ liệu của np_efficiency:\", np_efficiency.dtype)\n",
    "\n",
    "morning_efficiency = np_efficiency[np_shifts == 'Morning']\n",
    "average_morning = np.mean(morning_efficiency)\n",
    "\n",
    "print(\"Hiệu suất trung bình ca 'Morning':\", average_morning)\n",
    "\n",
    "non_morning_efficiency = np_efficiency[np_shifts != 'Morning']\n",
    "average_non_morning = np.mean(non_morning_efficiency)\n",
    "\n",
    "print(\"Hiệu suất trung bình ca khác 'Morning':\", average_non_morning)\n",
    "\n",
    "workers = np.array(list(zip(np_shifts, np_efficiency)),\n",
    "                   dtype=[('shift', 'U10'), ('efficiency', 'f4')])\n",
    "\n",
    "print(\"Structured array workers:\")\n",
    "print(workers)\n",
    "\n",
    "sorted_workers = np.sort(workers, order='efficiency')\n",
    "\n",
    "print(\"Workers được sắp xếp theo efficiency:\")\n",
    "print(sorted_workers)\n",
    "\n",
    "highest_shift = sorted_workers[-1]['shift']\n",
    "lowest_shift = sorted_workers[0]['shift']\n",
    "\n",
    "print(\"Ca làm việc có hiệu suất cao nhất:\", highest_shift)\n",
    "print(\"Ca làm việc có hiệu suất thấp nhất:\", lowest_shift)\n",
    "\n"
   ]
  }
 ],
 "metadata": {
  "kernelspec": {
   "display_name": "Python 3",
   "language": "python",
   "name": "python3"
  },
  "language_info": {
   "codemirror_mode": {
    "name": "ipython",
    "version": 3
   },
   "file_extension": ".py",
   "mimetype": "text/x-python",
   "name": "python",
   "nbconvert_exporter": "python",
   "pygments_lexer": "ipython3",
   "version": "3.12.1"
  }
 },
 "nbformat": 4,
 "nbformat_minor": 2
}
